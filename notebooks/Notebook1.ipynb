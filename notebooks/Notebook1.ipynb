{
 "cells": [
  {
   "cell_type": "code",
   "execution_count": 2,
   "id": "cbfce4bc-0ce9-4c67-807d-bd3a13e6d153",
   "metadata": {},
   "outputs": [],
   "source": [
    "# Import relevant libraries\n",
    "import cv2\n",
    "import os"
   ]
  },
  {
   "cell_type": "code",
   "execution_count": 5,
   "id": "b01f0f7c-fa20-4374-b9ef-51f68a5e8305",
   "metadata": {},
   "outputs": [],
   "source": [
    "# Folder containing images\n",
    "folder_path = \"../data/raw/images\""
   ]
  },
  {
   "cell_type": "code",
   "execution_count": 7,
   "id": "d2b0a4ac-0fde-4aca-9f08-2c7583431e99",
   "metadata": {},
   "outputs": [
    {
     "name": "stdout",
     "output_type": "stream",
     "text": [
      "Found 19 images.\n"
     ]
    }
   ],
   "source": [
    "import glob\n",
    "\n",
    "image_files = glob.glob(os.path.join(folder_path, \"*.jpg\"))\n",
    "print(f\"Found {len(image_files)} images.\")"
   ]
  },
  {
   "cell_type": "code",
   "execution_count": 8,
   "id": "fdf05057-70e9-4e2e-ab67-a4ee41393650",
   "metadata": {},
   "outputs": [],
   "source": [
    "# Reading and importing each of the images\n",
    "images = []\n",
    "\n",
    "for img_path in image_files:\n",
    "    img = cv2.imread(img_path)\n",
    "    if img is not None:\n",
    "        images.append(img)\n",
    "    else:\n",
    "        print(f\"Could not read {img_path}\")"
   ]
  },
  {
   "cell_type": "code",
   "execution_count": 19,
   "id": "686d63cb-29be-4e63-b6aa-d6fb9ed791c8",
   "metadata": {},
   "outputs": [
    {
     "name": "stdout",
     "output_type": "stream",
     "text": [
      "(929, 463, 3) \n",
      "\n",
      "(1000, 562, 3) \n",
      "\n",
      "(2475, 2448, 3) \n",
      "\n",
      "(1000, 750, 3) \n",
      "\n",
      "(1200, 900, 3) \n",
      "\n",
      "(1600, 598, 3) \n",
      "\n",
      "(1024, 768, 3) \n",
      "\n",
      "(745, 737, 3) \n",
      "\n",
      "(768, 622, 3) \n",
      "\n",
      "(1200, 900, 3) \n",
      "\n",
      "(1008, 756, 3) \n",
      "\n",
      "(981, 736, 3) \n",
      "\n",
      "(600, 450, 3) \n",
      "\n",
      "(4032, 2268, 3) \n",
      "\n",
      "(1600, 598, 3) \n",
      "\n",
      "(720, 482, 3) \n",
      "\n",
      "(960, 720, 3) \n",
      "\n",
      "(1024, 688, 3) \n",
      "\n",
      "(1023, 612, 3) \n",
      "\n"
     ]
    }
   ],
   "source": [
    "for i in range(len(images)):\n",
    "    print(images[i].shape, \"\\n\")"
   ]
  },
  {
   "cell_type": "code",
   "execution_count": 20,
   "id": "e86d11a5-95ab-4265-b87a-8cb1d624c2b0",
   "metadata": {},
   "outputs": [
    {
     "ename": "AttributeError",
     "evalue": "'numpy.ndarray' object has no attribute 'iloc'",
     "output_type": "error",
     "traceback": [
      "\u001b[0;31m---------------------------------------------------------------------------\u001b[0m",
      "\u001b[0;31mAttributeError\u001b[0m                            Traceback (most recent call last)",
      "Cell \u001b[0;32mIn[20], line 4\u001b[0m\n\u001b[1;32m      1\u001b[0m \u001b[38;5;66;03m# It seems like all images have different width and height. It is presumed that three values in the third dimension are the values for R, G,\u001b[39;00m\n\u001b[1;32m      2\u001b[0m \u001b[38;5;66;03m# and B. Let's explore!\u001b[39;00m\n\u001b[1;32m      3\u001b[0m \u001b[38;5;28;01mfor\u001b[39;00m i \u001b[38;5;129;01min\u001b[39;00m \u001b[38;5;28mrange\u001b[39m(\u001b[38;5;241m3\u001b[39m):\n\u001b[0;32m----> 4\u001b[0m     \u001b[38;5;28mprint\u001b[39m(images[\u001b[38;5;241m0\u001b[39m]\u001b[38;5;241m.\u001b[39miloc(\u001b[38;5;241m0\u001b[39m, \u001b[38;5;241m0\u001b[39m, i))\n",
      "\u001b[0;31mAttributeError\u001b[0m: 'numpy.ndarray' object has no attribute 'iloc'"
     ]
    }
   ],
   "source": [
    "# It seems like all images have different width and height. It is presumed that three values in the third dimension are the values for R, G,\n",
    "# and B. Let's explore!\n",
    "for i in range(3):\n",
    "    print(images[0].iloc(0, 0, i))"
   ]
  },
  {
   "cell_type": "code",
   "execution_count": null,
   "id": "e1653c72-69c3-4a33-b516-f3158bf50c66",
   "metadata": {},
   "outputs": [],
   "source": []
  }
 ],
 "metadata": {
  "kernelspec": {
   "display_name": "Python 3 (ipykernel)",
   "language": "python",
   "name": "python3"
  },
  "language_info": {
   "codemirror_mode": {
    "name": "ipython",
    "version": 3
   },
   "file_extension": ".py",
   "mimetype": "text/x-python",
   "name": "python",
   "nbconvert_exporter": "python",
   "pygments_lexer": "ipython3",
   "version": "3.12.2"
  }
 },
 "nbformat": 4,
 "nbformat_minor": 5
}
